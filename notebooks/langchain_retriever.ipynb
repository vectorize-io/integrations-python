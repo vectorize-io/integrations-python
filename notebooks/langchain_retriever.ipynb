{
 "nbformat": 4,
 "nbformat_minor": 0,
 "metadata": {
  "colab": {
   "provenance": []
  },
  "kernelspec": {
   "name": "python3",
   "display_name": "Python 3"
  },
  "language_info": {
   "name": "python"
  }
 },
 "cells": [
  {
   "cell_type": "markdown",
   "source": [
    "# Langchain Vectorize Retriever\n",
    "\n",
    "This notebook shows how to use the LangChain Vectorize retriever."
   ],
   "metadata": {
    "id": "zvHrM3wa7IE1"
   }
  },
  {
   "cell_type": "markdown",
   "source": [
    "# Setup\n",
    "\n",
    "In the following steps, we'll setup the Vectorize environment and create a RAG pipeline.\n"
   ],
   "metadata": {
    "id": "r-RswOO5o4K_"
   }
  },
  {
   "cell_type": "markdown",
   "source": [
    "## Create a Vectorize Account & Get Your Access Token\n",
    "\n",
    "Sign up for a free Vectorize account [here](https://platform.vectorize.io/)\n",
    "Generate an access token in the [Access Token](https://docs.vectorize.io/rag-pipelines/retrieval-endpoint#access-tokens) section\n",
    "Gather your organization ID. From the browser url, extract the UUID from the URL after /organization/"
   ],
   "metadata": {
    "id": "FhvmvFKh4Rlh"
   }
  },
  {
   "cell_type": "markdown",
   "source": [
    "## Install langchain_vectorize"
   ],
   "metadata": {
    "id": "JdZ5vlzjoDVr"
   }
  },
  {
   "cell_type": "code",
   "execution_count": null,
   "metadata": {
    "id": "IJFmtvDLn5R3"
   },
   "outputs": [],
   "source": [
    "!pip install -qU langchain-vectorize"
   ]
  },
  {
   "cell_type": "markdown",
   "source": [
    "## Configure token and organization ID\n",
    "\n"
   ],
   "metadata": {
    "id": "L2SULMfWpWFX"
   }
  },
  {
   "cell_type": "code",
   "source": [
    "import getpass\n",
    "import os\n",
    "\n",
    "VECTORIZE_ORG_ID = getpass.getpass(\"Enter Vectorize organization ID: \")\n",
    "VECTORIZE_API_TOKEN = getpass.getpass(\"Enter Vectorize API Token: \")"
   ],
   "metadata": {
    "id": "BnF8KoDZpg2O"
   },
   "execution_count": null,
   "outputs": []
  },
  {
   "cell_type": "markdown",
   "source": [
    "## Download a PDF file"
   ],
   "metadata": {
    "id": "Oj10Moznpz67"
   }
  },
  {
   "cell_type": "code",
   "source": [
    "! wget \"https://raw.githubusercontent.com/vectorize-io/vectorize-clients/refs/tags/python-0.1.3/tests/python/tests/research.pdf\""
   ],
   "metadata": {
    "id": "eLbbTPytrgNw"
   },
   "execution_count": null,
   "outputs": []
  },
  {
   "cell_type": "markdown",
   "source": [
    "## Initialize the vectorize client"
   ],
   "metadata": {
    "id": "7g54J6awtshs"
   }
  },
  {
   "cell_type": "code",
   "source": [
    "import vectorize_client as v\n",
    "\n",
    "api = v.ApiClient(v.Configuration(access_token=VECTORIZE_API_TOKEN))"
   ],
   "metadata": {
    "id": "9Fr4yz5CrFWP"
   },
   "execution_count": null,
   "outputs": []
  },
  {
   "cell_type": "markdown",
   "source": [
    "## Create a File Upload Source Connector"
   ],
   "metadata": {
    "id": "wPDoeqETxJrS"
   }
  },
  {
   "cell_type": "code",
   "source": [
    "import urllib3, json, os\n",
    "\n",
    "connectors_api = v.ConnectorsApi(api)\n",
    "response = connectors_api.create_source_connector(VECTORIZE_ORG_ID, [{\n",
    "        \"type\": \"FILE_UPLOAD\",\n",
    "        \"name\": \"From API\"\n",
    "    }])\n",
    "source_connector_id = response.connectors[0].id"
   ],
   "metadata": {
    "id": "9yEARIcFue5N"
   },
   "execution_count": null,
   "outputs": []
  },
  {
   "cell_type": "markdown",
   "source": [
    "## Upload the PDF file"
   ],
   "metadata": {
    "id": "yU3lS6dpxZnQ"
   }
  },
  {
   "cell_type": "code",
   "source": [
    "file_path = \"research.pdf\"\n",
    "\n",
    "http = urllib3.PoolManager()\n",
    "uploads_api = v.UploadsApi(api)\n",
    "metadata = {\"created-from-api\": True}\n",
    "\n",
    "upload_response = uploads_api.start_file_upload_to_connector(\n",
    "        VECTORIZE_ORG_ID, source_connector_id, v.StartFileUploadToConnectorRequest(\n",
    "            name=file_path.split(\"/\")[-1],\n",
    "            content_type=\"application/pdf\",\n",
    "            # add additional metadata that will be stored along with each chunk in the vector database\n",
    "            metadata=json.dumps(metadata))\n",
    ")\n",
    "\n",
    "with open(file_path, \"rb\") as f:\n",
    "    response = http.request(\"PUT\", upload_response.upload_url, body=f, headers={\"Content-Type\": \"application/pdf\", \"Content-Length\": str(os.path.getsize(file_path))})\n",
    "\n",
    "if response.status != 200:\n",
    "    print(\"Upload failed: \", response.data)\n",
    "else:\n",
    "    print(\"Upload successful\")"
   ],
   "metadata": {
    "id": "OIiMIZ8ZxUYF"
   },
   "execution_count": null,
   "outputs": []
  },
  {
   "cell_type": "markdown",
   "source": [
    "## Connect to the AI Platform and Vector Database"
   ],
   "metadata": {
    "id": "PdJJfOhfxiIo"
   }
  },
  {
   "cell_type": "code",
   "source": [
    "ai_platforms = connectors_api.get_ai_platform_connectors(VECTORIZE_ORG_ID)\n",
    "builtin_ai_platform = [c.id for c in ai_platforms.ai_platform_connectors if c.type == \"VECTORIZE\"][0]\n",
    "\n",
    "vector_databases = connectors_api.get_destination_connectors(VECTORIZE_ORG_ID)\n",
    "builtin_vector_db = [c.id for c in vector_databases.destination_connectors if c.type == \"VECTORIZE\"][0]"
   ],
   "metadata": {
    "id": "0ZSGhXJfxjBb"
   },
   "execution_count": null,
   "outputs": []
  },
  {
   "cell_type": "markdown",
   "source": [
    "## Configure and Deploy the Pipeline"
   ],
   "metadata": {
    "id": "JWoL-kqQxs5H"
   }
  },
  {
   "cell_type": "code",
   "source": [
    "pipelines = v.PipelinesApi(api)\n",
    "response = pipelines.create_pipeline(VECTORIZE_ORG_ID, v.PipelineConfigurationSchema(\n",
    "    source_connectors=[v.SourceConnectorSchema(id=source_connector_id, type=\"FILE_UPLOAD\", config={})],\n",
    "    destination_connector=v.DestinationConnectorSchema(id=builtin_vector_db, type=\"VECTORIZE\", config={}),\n",
    "    ai_platform=v.AIPlatformSchema(id=builtin_ai_platform, type=\"VECTORIZE\", config={}),\n",
    "    pipeline_name=\"My Pipeline From API\",\n",
    "    schedule=v.ScheduleSchema(type=\"manual\")\n",
    "))\n",
    "pipeline_id = response.data.id"
   ],
   "metadata": {
    "id": "hze9vJbQxvqA"
   },
   "execution_count": null,
   "outputs": []
  },
  {
   "cell_type": "markdown",
   "source": [
    "# Use the LangChain Vectorize retriever"
   ],
   "metadata": {
    "id": "5ULion9wyj6T"
   }
  },
  {
   "cell_type": "code",
   "source": [
    "from langchain_vectorize.retrievers import VectorizeRetriever\n",
    "\n",
    "retriever = VectorizeRetriever(\n",
    "    api_token=VECTORIZE_API_TOKEN,\n",
    "    organization=VECTORIZE_ORG_ID,\n",
    "    pipeline_id=pipeline_id,\n",
    ")\n",
    "\n",
    "retriever.invoke(\"Apple Shareholders equity\", num_results=2)\n"
   ],
   "metadata": {
    "id": "9D-QfiW7yoe0"
   },
   "execution_count": null,
   "outputs": []
  }
 ]
}
